{
 "cells": [
  {
   "cell_type": "code",
   "execution_count": 1,
   "metadata": {},
   "outputs": [],
   "source": [
    "import matplotlib as mpl\n",
    "import matplotlib.pyplot as plt\n",
    "%matplotlib inline\n",
    "import numpy as np\n",
    "import sklearn\n",
    "import pandas as pd\n",
    "import os\n",
    "import sys\n",
    "import time\n",
    "import tensorflow as tf\n",
    "\n",
    "from tensorflow import keras"
   ]
  },
  {
   "cell_type": "code",
   "execution_count": 2,
   "metadata": {},
   "outputs": [],
   "source": [
    "# 1. load data\n",
    "# 2. preprocessing data -> dataset\n",
    "# 3. tools\n",
    "#    3.1 generates position embedding\n",
    "#    3.2 create mask. (a.padding, b.decoder)\n",
    "#    3.3 scaled_dot_product_attention\n",
    "# 4. builds model\n",
    "#    4.1 MultiheadAttention\n",
    "#    4.2 EncoderLayer\n",
    "#    4.3 DecoderLayer\n",
    "#    4.4 EncoderModel\n",
    "#    4.5 DecoderModel\n",
    "#    4.6 Transformer\n",
    "# 5. optimizer & loss\n",
    "# 6. train step -> train\n",
    "# 7. Evaluate and Visualize"
   ]
  },
  {
   "cell_type": "code",
   "execution_count": 3,
   "metadata": {},
   "outputs": [
    {
     "name": "stdout",
     "output_type": "stream",
     "text": [
      "tfds.core.DatasetInfo(\n",
      "    name='ted_hrlr_translate',\n",
      "    version=1.0.0,\n",
      "    description='Data sets derived from TED talk transcripts for comparing similar language pairs\n",
      "where one is high resource and the other is low resource.\n",
      "',\n",
      "    homepage='https://github.com/neulab/word-embeddings-for-nmt',\n",
      "    features=Translation({\n",
      "        'en': Text(shape=(), dtype=tf.string),\n",
      "        'pt': Text(shape=(), dtype=tf.string),\n",
      "    }),\n",
      "    total_num_examples=54781,\n",
      "    splits={\n",
      "        'test': 1803,\n",
      "        'train': 51785,\n",
      "        'validation': 1193,\n",
      "    },\n",
      "    supervised_keys=('pt', 'en'),\n",
      "    citation=\"\"\"@inproceedings{Ye2018WordEmbeddings,\n",
      "      author  = {Ye, Qi and Devendra, Sachan and Matthieu, Felix and Sarguna, Padmanabhan and Graham, Neubig},\n",
      "      title   = {When and Why are pre-trained word embeddings useful for Neural Machine Translation},\n",
      "      booktitle = {HLT-NAACL},\n",
      "      year    = {2018},\n",
      "      }\"\"\",\n",
      "    redistribution_info=,\n",
      ")\n",
      "\n"
     ]
    }
   ],
   "source": [
    "# 1. load data\n",
    "import tensorflow_datasets as tfds\n",
    "\n",
    "examples, info = tfds.load('ted_hrlr_translate/pt_to_en', with_info = True, as_supervised = True)\n",
    "\n",
    "train_examples, val_examples = examples['train'], examples['validation']\n",
    "print(info)"
   ]
  },
  {
   "cell_type": "code",
   "execution_count": 4,
   "metadata": {},
   "outputs": [
    {
     "name": "stdout",
     "output_type": "stream",
     "text": [
      "b'e quando melhoramos a procura , tiramos a \\xc3\\xbanica vantagem da impress\\xc3\\xa3o , que \\xc3\\xa9 a serendipidade .'\n",
      "b'and when you improve searchability , you actually take away the one advantage of print , which is serendipity .'\n",
      "\n",
      "b'mas e se estes fatores fossem ativos ?'\n",
      "b'but what if it were active ?'\n",
      "\n",
      "b'mas eles n\\xc3\\xa3o tinham a curiosidade de me testar .'\n",
      "b\"but they did n't test for curiosity .\"\n",
      "\n",
      "b'e esta rebeldia consciente \\xc3\\xa9 a raz\\xc3\\xa3o pela qual eu , como agn\\xc3\\xb3stica , posso ainda ter f\\xc3\\xa9 .'\n",
      "b'and this conscious defiance is why i , as an agnostic , can still have faith .'\n",
      "\n",
      "b\"`` `` '' podem usar tudo sobre a mesa no meu corpo . ''\"\n",
      "b'you can use everything on the table on me .'\n",
      "\n"
     ]
    }
   ],
   "source": [
    "for pt,en in train_examples.take(5):\n",
    "    print(pt.numpy())\n",
    "    print(en.numpy())\n",
    "    print()"
   ]
  },
  {
   "cell_type": "code",
   "execution_count": 5,
   "metadata": {},
   "outputs": [],
   "source": [
    "en_tokenizer = tfds.features.text.SubwordTextEncoder.build_from_corpus((en.numpy() for pt,en in train_examples),target_vocab_size=2 **13)\n",
    "pt_tokenizer = tfds.features.text.SubwordTextEncoder.build_from_corpus((pt.numpy() for pt,en in train_examples),target_vocab_size=2 **13)\n"
   ]
  },
  {
   "cell_type": "code",
   "execution_count": 6,
   "metadata": {},
   "outputs": [
    {
     "name": "stdout",
     "output_type": "stream",
     "text": [
      "Tokenized string is [7915, 1248, 7946, 7194, 13, 2799, 7877]\n",
      "The original string is Transformer is awesome.\n",
      "7915 --> \"T\"\n",
      "1248 --> \"ran\"\n",
      "7946 --> \"s\"\n",
      "7194 --> \"former \"\n",
      "13 --> \"is \"\n",
      "2799 --> \"awesome\"\n",
      "7877 --> \".\"\n"
     ]
    }
   ],
   "source": [
    "#简单看看句子tokenized的效果\n",
    "sample_string = 'Transformer is awesome.'\n",
    "tokenized_string = en_tokenizer.encode(sample_string)\n",
    "print('Tokenized string is {}'.format(tokenized_string))\n",
    "\n",
    "origin_string = en_tokenizer.decode(tokenized_string)\n",
    "print(('The original string is {}'.format(origin_string)))\n",
    "\n",
    "assert origin_string == sample_string\n",
    "\n",
    "for token in tokenized_string:\n",
    "    print('{} --> \"{}\"'.format(token, en_tokenizer.decode([token])))"
   ]
  },
  {
   "cell_type": "code",
   "execution_count": 7,
   "metadata": {},
   "outputs": [],
   "source": [
    "#数据预处理\n",
    "buffer_size = 20000\n",
    "batch_size = 64\n",
    "max_length = 40\n",
    "\n",
    "# tokenize the sentence\n",
    "def encode_to_subword(pt_sentence, en_sentence):\n",
    "    pt_sequence = [pt_tokenizer.vocab_size] + pt_tokenizer.encode(pt_sentence.numpy()) + [pt_tokenizer.vocab_size +1]\n",
    "    en_sequence = [en_tokenizer.vocab_size] + en_tokenizer.encode(en_sentence.numpy()) + [en_tokenizer.vocab_size +1]\n",
    "    return pt_sequence,en_sequence\n",
    "\n",
    "#将长度大于40的句子过滤掉  返回布尔型\n",
    "def filter_by_max_length(pt, en):\n",
    "    return tf.logical_and(tf.size(pt)<= max_length, tf.size(en)<= max_length)\n",
    "\n",
    "#将python函数封装起来\n",
    "def tf_encode_to_subword(pt_sentence, en_sentence):\n",
    "    return tf.py_function(encode_to_subword, [pt_sentence,en_sentence], [tf.int64, tf.int64])\n",
    "\n",
    "train_dataset = train_examples.map(tf_encode_to_subword)  #将数据集从word变成数字\n",
    "train_dataset = train_dataset.filter(filter_by_max_length)  #过滤长度\n",
    "train_dataset = train_dataset.shuffle(buffer_size).padded_batch(batch_size, padded_shapes=([-1],[-1]))  #shuffle and padding ,padding到每个维度上的最大数值\n",
    "\n",
    "valid_dataset = val_examples.map(tf_encode_to_subword)\n",
    "valid_dataset = valid_dataset.filter(filter_by_max_length)\n",
    "valid_dataset = valid_dataset.shuffle(buffer_size).padded_batch(batch_size, padded_shapes=([-1],[-1]))"
   ]
  },
  {
   "cell_type": "code",
   "execution_count": 8,
   "metadata": {},
   "outputs": [
    {
     "name": "stdout",
     "output_type": "stream",
     "text": [
      "(64, 38) (64, 39)\n",
      "(64, 39) (64, 34)\n",
      "(64, 40) (64, 36)\n",
      "(64, 36) (64, 40)\n",
      "(64, 40) (64, 40)\n"
     ]
    }
   ],
   "source": [
    "for pt_batch, en_batch in valid_dataset.take(5):\n",
    "    print(pt_batch.shape, en_batch.shape)"
   ]
  },
  {
   "cell_type": "code",
   "execution_count": 9,
   "metadata": {},
   "outputs": [
    {
     "name": "stdout",
     "output_type": "stream",
     "text": [
      "(1, 50, 512)\n"
     ]
    }
   ],
   "source": [
    "#3.1 生成位置编码\n",
    "# PE(pos,2i) = sin(pos/10000^(2i/d_model))\n",
    "# PE(pos,2i+1) = cos(pos/10000^(2i/d_model))  #pos词语在句子中的位置， i：在embedding中的位置，d_model是embedding的大小，i有d_model个位置\n",
    "\n",
    "#首先完成sin cos里面的那一部分\n",
    "#pos.shape:(senten_length,1)\n",
    "#i.shape:(1,d_model)\n",
    "#result.shape:(sentence_length, d_model)\n",
    "def get_angles(pos, i, d_model):\n",
    "    angel_rates = 1/np.power(10000, (2*(i//2))/np.float32(d_model))\n",
    "    return pos*angel_rates\n",
    "\n",
    "def get_positional_embedding(sentence_length, d_model):\n",
    "    angle_rads = get_angles(np.arange(sentence_length)[:, np.newaxis], np.arange(d_model)[np.newaxis, :],d_model)\n",
    "    #sines.shape:(sentence_length, d_model/2)\n",
    "    #cosines.shape:(sentence_length, d_model/2)\n",
    "    sines = np.sin(angle_rads[:,0::2])\n",
    "    cosines = np.cos(angle_rads[:,1::2])\n",
    "    #position_embedding.shape: (sentence_length, d_model)\n",
    "    position_embedding = np.concatenate([sines,cosines],axis=-1)\n",
    "    # position_embedding.shape: [1, sentence_length, d_model]\n",
    "    position_embedding = position_embedding[np.newaxis, ...]  #扩展一个维度，以后可以做batch\n",
    "    return tf.cast(position_embedding,dtype=tf.float32)\n",
    "\n",
    "position_embedding = get_positional_embedding(50, 512)\n",
    "print(position_embedding.shape)"
   ]
  },
  {
   "cell_type": "code",
   "execution_count": 10,
   "metadata": {},
   "outputs": [
    {
     "data": {
      "image/png": "[encoded data removed]",
      "text/plain": [
       "<Figure size 432x288 with 2 Axes>"
      ]
     },
     "metadata": {
      "needs_background": "light"
     },
     "output_type": "display_data"
    }
   ],
   "source": [
    "#把position_embedding画出来\n",
    "def plot_position_embedding(position_embedding):\n",
    "    plt.pcolormesh(position_embedding[0],cmap='RdBu')\n",
    "    plt.xlabel('Depth')\n",
    "    plt.xlim((0,512))\n",
    "    plt.ylabel('Position')\n",
    "    plt.colorbar()\n",
    "    plt.show()\n",
    "\n",
    "plot_position_embedding(position_embedding)"
   ]
  },
  {
   "cell_type": "code",
   "execution_count": 11,
   "metadata": {},
   "outputs": [
    {
     "data": {
      "text/plain": [
       "<tf.Tensor: shape=(3, 1, 1, 5), dtype=float32, numpy=\n",
       "array([[[[0., 0., 1., 1., 0.]]],\n",
       "\n",
       "\n",
       "       [[[0., 0., 0., 1., 1.]]],\n",
       "\n",
       "\n",
       "       [[[1., 1., 1., 0., 0.]]]], dtype=float32)>"
      ]
     },
     "execution_count": 11,
     "metadata": {},
     "output_type": "execute_result"
    }
   ],
   "source": [
    "#3.2 生成mask 1.padding mask, 2.decode look ahead mask 不能和之后的词语进行attention\n",
    "\n",
    "#batch_data.shape: (batch_size, seq_len) （64.40）\n",
    "def create_padding_mask(batch_data):\n",
    "    padding_mask = tf.cast(tf.math.equal(batch_data,0),tf.float32)\n",
    "    return padding_mask[:,tf.newaxis, tf.newaxis,:]   #为了使这个和attention_weights更方便计算而reshape\n",
    "#padding_shape:(batch_size,1,1,seq_len)\n",
    "\n",
    "x = tf.constant([[7,6,0,0,1],[1,2,3,0,0],[0,0,0,4,5]])\n",
    "create_padding_mask(x)"
   ]
  },
  {
   "cell_type": "code",
   "execution_count": 12,
   "metadata": {},
   "outputs": [
    {
     "data": {
      "text/plain": [
       "<tf.Tensor: shape=(3, 3), dtype=float32, numpy=\n",
       "array([[0., 1., 1.],\n",
       "       [0., 0., 1.],\n",
       "       [0., 0., 0.]], dtype=float32)>"
      ]
     },
     "execution_count": 12,
     "metadata": {},
     "output_type": "execute_result"
    }
   ],
   "source": [
    "#假设attention_weights.shape:[3,3]\n",
    "#{{1,2,3],[4,5,6],[7,8,9]]  1:第一个单词跟第一个单词自己的attention，2：第一个单词跟第二个单词的attention， 4：第二个单词和第一个单词的attention\n",
    "#如果要前词看不见后词，就需要：[{1,0,0],[4,5,0],[7,8,9]]\n",
    "def create_look_ahead_mask(size):\n",
    "    mask = 1-tf.linalg.band_part(tf.ones((size,size)),-1,0)   #得到的是一个上三角都是1，下三角都是0的矩阵\n",
    "    return mask   #mask.shape:(seq_len,seq_len)\n",
    "\n",
    "create_look_ahead_mask(3)"
   ]
  },
  {
   "cell_type": "code",
   "execution_count": 13,
   "metadata": {},
   "outputs": [],
   "source": [
    "#3.3 缩放点积注意力\n",
    "def scaled_dot_product_attention(q,k,v,mask):\n",
    "    '''\n",
    "    Args:\n",
    "    :param q: shape ==(..., seq_len_q, depth)\n",
    "    :param k: shape ==(..., seq_len_k, depth)\n",
    "    :param v: shape ==(..., seq_len_v, depth_v)\n",
    "    其中seq_len_k == seq_len_v\n",
    "    q*k .shape (..., seq_len_q, seq_len_k) == mask.shape\n",
    "    return: 1. output:weighted sum   2. attention_weights\n",
    "    '''\n",
    "\n",
    "    matmul_qk = tf.matmul(q,k,transpose_b= True)   #shape:(..., seq_len_q, seq_len_k)\n",
    "    dk = tf.cast(tf.shape(k)[-1],tf.float32)\n",
    "    scaled_attention_logits = matmul_qk / tf.math.sqrt(dk)\n",
    "\n",
    "    if mask is not None:\n",
    "        #使得padding的部分在softmax后值趋近于0\n",
    "        scaled_attention_logits += (mask * -1e9)\n",
    "    #attention_weights.shape:(..., seq_len_q, seq_len_k)\n",
    "    attention_weights = tf.nn.softmax(scaled_attention_logits, axis=-1)  #即在seq_len_k维度上计算softmax，使这个维度上的值加起来=1\n",
    "\n",
    "    output = tf.matmul(attention_weights,v)   #shape:(..., seq_len_q, depth_v)\n",
    "    return output,attention_weights\n",
    "\n",
    "def print_scaled_dot_product_attention(q,k,v):\n",
    "    temp_out, temp_att = scaled_dot_product_attention(q,k,v,None)\n",
    "    print(\"Attention weights are :\")\n",
    "    print(temp_att)\n",
    "    print(\"Output is:\")\n",
    "    print(temp_out)\n"
   ]
  },
  {
   "cell_type": "code",
   "execution_count": 14,
   "metadata": {},
   "outputs": [
    {
     "name": "stdout",
     "output_type": "stream",
     "text": [
      "Attention weights are :\n",
      "tf.Tensor([[0. 1. 0. 0.]], shape=(1, 4), dtype=float32)\n",
      "Output is:\n",
      "tf.Tensor([[10.  0.]], shape=(1, 2), dtype=float32)\n"
     ]
    }
   ],
   "source": [
    "#例子运行看看效果\n",
    "temp_k = tf.constant([[10,0,0],[0,10,0],[0,0,10],[0,0,10]],dtype=tf.float32)  #4*3\n",
    "\n",
    "temp_v = tf.constant([[1,0],[10,0],[100,5],[1000,6]],dtype=tf.float32) # 4*2\n",
    "\n",
    "temp_q1 = tf.constant([[0,10,0]],dtype=tf.float32)  #1*3\n",
    "np.set_printoptions(suppress=True)  #四舍五入\n",
    "print_scaled_dot_product_attention(temp_q1,temp_k,temp_v)"
   ]
  },
  {
   "cell_type": "code",
   "execution_count": 15,
   "metadata": {},
   "outputs": [
    {
     "name": "stdout",
     "output_type": "stream",
     "text": [
      "Attention weights are :\n",
      "tf.Tensor([[0.  0.  0.5 0.5]], shape=(1, 4), dtype=float32)\n",
      "Output is:\n",
      "tf.Tensor([[550.    5.5]], shape=(1, 2), dtype=float32)\n"
     ]
    }
   ],
   "source": [
    "temp_q2 = tf.constant([[0,0,10]],dtype=tf.float32)\n",
    "print_scaled_dot_product_attention(temp_q2,temp_k,temp_v)"
   ]
  },
  {
   "cell_type": "code",
   "execution_count": 16,
   "metadata": {},
   "outputs": [
    {
     "name": "stdout",
     "output_type": "stream",
     "text": [
      "Attention weights are :\n",
      "tf.Tensor([[0.5 0.5 0.  0. ]], shape=(1, 4), dtype=float32)\n",
      "Output is:\n",
      "tf.Tensor([[5.5 0. ]], shape=(1, 2), dtype=float32)\n"
     ]
    }
   ],
   "source": [
    "temp_q3 = tf.constant([[10,10,0]],dtype=tf.float32)\n",
    "print_scaled_dot_product_attention(temp_q3,temp_k,temp_v)"
   ]
  },
  {
   "cell_type": "code",
   "execution_count": 17,
   "metadata": {},
   "outputs": [
    {
     "name": "stdout",
     "output_type": "stream",
     "text": [
      "Attention weights are :\n",
      "tf.Tensor(\n",
      "[[0.  1.  0.  0. ]\n",
      " [0.  0.  0.5 0.5]\n",
      " [0.5 0.5 0.  0. ]], shape=(3, 4), dtype=float32)\n",
      "Output is:\n",
      "tf.Tensor(\n",
      "[[ 10.    0. ]\n",
      " [550.    5.5]\n",
      " [  5.5   0. ]], shape=(3, 2), dtype=float32)\n"
     ]
    }
   ],
   "source": [
    "temp_q4 = tf.constant([[0,10,0],[0,0,10],[10,10,0]],dtype=tf.float32)   #3*3\n",
    "print_scaled_dot_product_attention(temp_q4,temp_k,temp_v)"
   ]
  },
  {
   "cell_type": "code",
   "execution_count": 18,
   "metadata": {},
   "outputs": [
    {
     "name": "stdout",
     "output_type": "stream",
     "text": [
      "(1, 60, 512)\n",
      "(1, 8, 60, 60)\n"
     ]
    }
   ],
   "source": [
    "#4.1 MultiheadAttention\n",
    "\n",
    "class MultiHeadAttention(keras.layers.Layer):\n",
    "    '''\n",
    "    实战技巧：q -> Wq -> Q -> split -> q0,q1,q2 ...\n",
    "    '''\n",
    "    def __init__(self,d_model,num_heads):\n",
    "        super(MultiHeadAttention,self).__init__()\n",
    "        self.num_heads = num_heads\n",
    "        self.d_model = d_model\n",
    "        assert self.d_model % self.num_heads == 0  #d_model就是Wq的输出，要被split\n",
    "\n",
    "        self.depth = self.d_model // self.num_heads\n",
    "\n",
    "        self.WQ = keras.layers.Dense(self.d_model)\n",
    "        self.WK = keras.layers.Dense(self.d_model)\n",
    "        self.WV = keras.layers.Dense(self.d_model)\n",
    "\n",
    "        self.dense = keras.layers.Dense(self.d_model)\n",
    "\n",
    "    def split_heads(self,x,batch_size):\n",
    "        # x.shape: (batch_size, seq_len, d_model)\n",
    "        # 其中d_model = num_heads *depth\n",
    "        #目标是x.shape = (batch_size, num_heads, seq_len, depth)\n",
    "        x = tf.reshape(x,(batch_size,-1,self.num_heads,self.depth))\n",
    "        return tf.transpose(x,perm=[0,2,1,3])\n",
    "\n",
    "    def call(self,q,k,v,mask):\n",
    "        batch_size = tf.shape(q)[0]\n",
    "        q = self.WQ(q)   #shape:(batch_size, seq_len_q, d_model)\n",
    "        k = self.WK(k)  #shape:(batch_size, seq_len_k, d_model)\n",
    "        v = self.WV(v)  #shape:(batch_size, seq_len_v, d_model)   其中seq_len_k = seq_len_v\n",
    "\n",
    "        q = self.split_heads(q,batch_size)   #shape:(batch_size, num_heads, seq_len_q, depth)\n",
    "        k = self.split_heads(k, batch_size)     #shape:(batch_size, num_heads, seq_len_k, depth)\n",
    "        v = self.split_heads(v, batch_size)     #shape:(batch_size, num_heads, seq_len_v, depth)\n",
    "\n",
    "        # scaled_attention_outputs.shape:(batch_size, num_heads, seq_len_q, depth_v)\n",
    "        # attention_weights.shape: (batch_size, num_heads, seq_len_q, seq_len_k)\n",
    "        scaled_attention_outputs, attention_weights = scaled_dot_product_attention(q,k,v,mask)\n",
    "\n",
    "        scaled_attention_outputs = tf.transpose(scaled_attention_outputs, perm=[0,2,1,3])   #(batch_size,seq_len_q,num_heads,depth)\n",
    "        concat_attention = tf.reshape(scaled_attention_outputs, (batch_size, -1, self.d_model)) #shape(batch_size, seq_len_q, d_model)\n",
    "\n",
    "        output = self.dense(concat_attention)  #shape(batch_size, seq_len_q, d_model)\n",
    "\n",
    "        return output,attention_weights\n",
    "\n",
    "temp_mha = MultiHeadAttention(d_model=512, num_heads=8)\n",
    "y = tf.random.uniform((1,60,256))  #(batch_size,seq_len_q, dim)\n",
    "output, attn = temp_mha(y,y,y,mask = None)\n",
    "print(output.shape)\n",
    "print(attn.shape)\n"
   ]
  },
  {
   "cell_type": "code",
   "execution_count": 19,
   "metadata": {},
   "outputs": [
    {
     "data": {
      "text/plain": [
       "TensorShape([64, 50, 512])"
      ]
     },
     "execution_count": 19,
     "metadata": {},
     "output_type": "execute_result"
    }
   ],
   "source": [
    "#feed_forward_network module\n",
    "def feed_forward_network(d_model,dff):\n",
    "    # dff: dim of feed forward network\n",
    "    return keras.Sequential([\n",
    "        keras.layers.Dense(dff,activation='relu'),\n",
    "        keras.layers.Dense(d_model)\n",
    "    ])\n",
    "\n",
    "sample_ffn = feed_forward_network(512,2028)\n",
    "sample_ffn(tf.random.uniform((64,50,512))).shape"
   ]
  },
  {
   "cell_type": "code",
   "execution_count": 33,
   "metadata": {},
   "outputs": [
    {
     "name": "stdout",
     "output_type": "stream",
     "text": [
      "(64, 50, 512)\n"
     ]
    }
   ],
   "source": [
    "#4.2 EncoderLayer\n",
    "\n",
    "class EncoderLayer(keras.layers.Layer):\n",
    "    #x - > self attention -> add&normalize & dropout -> feed_forward -> add&normalize & dropout\n",
    "    def __init__(self,d_model,num_heads,dff,rate = 0.1):\n",
    "        super(EncoderLayer,self).__init__()\n",
    "        self.mha = MultiHeadAttention(d_model,num_heads)\n",
    "        self.ffn = feed_forward_network(d_model,dff)\n",
    "\n",
    "        self.layer_norm1 = keras.layers.LayerNormalization(epsilon= 1e-6)\n",
    "        self.layer_norm2 = keras.layers.LayerNormalization(epsilon=1e-6)\n",
    "\n",
    "        self.dropout1 = keras.layers.Dropout(rate)\n",
    "        self.dropout2 = keras.layers.Dropout(rate)\n",
    "\n",
    "    def call(self, x, training, encoder_padding_mask):\n",
    "        #x.shape: (batch_size, seq_len, dim)\n",
    "        #attn_output.shape:(batch_size, seq_len,d_model)\n",
    "        # out1.shape:(batch_size, seq_len,d_model)\n",
    "        # out2.shape:(batch_size, seq_len,d_model)\n",
    "        attn_output,_ = self.mha(x,x,x,encoder_padding_mask)\n",
    "        attn_output = self.dropout1(attn_output,training = training)\n",
    "        out1 = self.layer_norm1(x+attn_output)   #add的时候x 和 attn_output的维度必须一样，也就是 dim = d_model\n",
    "\n",
    "        ffn_output = self.ffn(out1)\n",
    "        ffn_output = self.dropout2(ffn_output,training = training)   #shape:(batch_size,seq_len,d_model)\n",
    "        out2 = self.layer_norm2(out1 + ffn_output)\n",
    "\n",
    "        return out2\n",
    "\n",
    "sample_encoder_layer = EncoderLayer(512,8,2048)\n",
    "sample_input = tf.random.uniform((64,50,512))\n",
    "sampel_output = sample_encoder_layer(sample_input,False,None)\n",
    "print(sampel_output.shape)"
   ]
  },
  {
   "cell_type": "code",
   "execution_count": 34,
   "metadata": {},
   "outputs": [
    {
     "name": "stdout",
     "output_type": "stream",
     "text": [
      "(64, 60, 512)\n",
      "(64, 8, 60, 60)\n",
      "(64, 8, 60, 50)\n"
     ]
    }
   ],
   "source": [
    "#4.3 DecoderLayer\n",
    "\n",
    "class DecoderLayer(keras.layers.Layer):\n",
    "    #x - > self attention -> add&normalize & dropout -> out1\n",
    "    # out1+ecoding_outputs -> attention -> add&normalize & dropout -> out2\n",
    "    # out2 -> feed_forward -> add&normalize & dropout -> out3\n",
    "    def __init__(self,d_model,num_heads,dff,rate = 0.1):\n",
    "        super(DecoderLayer,self).__init__()\n",
    "        self.mha1 = MultiHeadAttention(d_model,num_heads)  #给输入做attention\n",
    "        self.mha2 = MultiHeadAttention(d_model, num_heads)  #给encoder & decoder之间做attention\n",
    "        self.ffn = feed_forward_network(d_model,dff)\n",
    "\n",
    "        self.layer_norm1 = keras.layers.LayerNormalization(epsilon= 1e-6)\n",
    "        self.layer_norm2 = keras.layers.LayerNormalization(epsilon=1e-6)\n",
    "        self.layer_norm3 = keras.layers.LayerNormalization(epsilon=1e-6)\n",
    "\n",
    "        self.dropout1 = keras.layers.Dropout(rate)\n",
    "        self.dropout2 = keras.layers.Dropout(rate)\n",
    "        self.dropout3 = keras.layers.Dropout(rate)  #rate比例的单元会被丢弃掉\n",
    "\n",
    "    def call(self, x, encoding_outputs, training, decoder_mask,encoder_decoder_padding_mask):\n",
    "        #x.shape: (batch_size, traget_seq_len, d_model)\n",
    "        #encoding_outputs.shape:(batch_size,input_seq_len,d_model)\n",
    "        #atten1, out1.shape:(batch_size,traget_seq_len,d_model)\n",
    "        attn1,attn_weights1 = self.mha1(x,x,x,decoder_mask)\n",
    "        attn1 = self.dropout1(attn1,training = training)\n",
    "        out1 = self.layer_norm1(attn1 + x)\n",
    "\n",
    "        # atten2, out2.shape:(batch_size,traget_seq_len,d_model)\n",
    "        attn2, attn_weights2 = self.mha2(out1,encoding_outputs,encoding_outputs,encoder_decoder_padding_mask)\n",
    "        attn2 = self.dropout2(attn2,training = training)\n",
    "        out2 =  self.layer_norm2(attn2 + out1)\n",
    "\n",
    "        # ffn_output, out3.shape:(batch_size,traget_seq_len,d_model)\n",
    "        ffn_output = self.ffn(out2)\n",
    "        ffn_output = self.dropout3(ffn_output,training = training)\n",
    "        out3 = self.layer_norm3(out2 + ffn_output)\n",
    "\n",
    "        return out3, attn_weights1,attn_weights2\n",
    "\n",
    "sample_decoder_layer = DecoderLayer(512,8,2048)\n",
    "sample_decoder_input = tf.random.uniform((64,60,512))\n",
    "sample_decoder_output, sampleatt1,sampleatt2 = sample_decoder_layer(sample_decoder_input,sampel_output,False,None,None)\n",
    "print(sample_decoder_output.shape)\n",
    "print(sampleatt1.shape)\n",
    "print(sampleatt2.shape)"
   ]
  },
  {
   "cell_type": "code",
   "execution_count": 46,
   "metadata": {},
   "outputs": [
    {
     "name": "stdout",
     "output_type": "stream",
     "text": [
      "(64, 37, 512)\n"
     ]
    }
   ],
   "source": [
    "#    4.4 EncoderModel\n",
    "class EncoderModel(keras.layers.Layer):\n",
    "    def __init__(self,num_layers,input_vocab_size, max_length, d_model,num_heads,dff,rate=0.1):\n",
    "        super(EncoderModel,self).__init__()\n",
    "        self.d_model = d_model\n",
    "        self.num_layers = num_layers\n",
    "        self.max_length = max_length\n",
    "        self.embedding = keras.layers.Embedding(input_vocab_size,self.d_model)\n",
    "\n",
    "        self.position_embedding = get_positional_embedding(max_length,self.d_model) ##shape = (1,max_length,d_model)\n",
    "\n",
    "        self.dropout = keras.layers.Dropout(rate)  #在embedding之后做一次dropout\n",
    "        self.encoder_layers = [\n",
    "            EncoderLayer(d_model,num_heads,dff,rate)\n",
    "            for _ in range(self.num_layers)\n",
    "        ]\n",
    "\n",
    "    def call(self,x,training,encoder_padding_mask):\n",
    "        input_seq_len = tf.shape(x)[1]   #x.shape = (batch_size,input_seq_len)\n",
    "        tf.debugging.assert_less_equal(input_seq_len,self.max_length,\"input_seq_len should be less or equal to self.max_length\")\n",
    "\n",
    "        x=self.embedding(x)  # x.shape = (batch_size,input_seq_len,d_model)\n",
    "        x *= tf.math.sqrt(tf.cast(self.d_model,tf.float32))  #缩放，为了加上位置编码后X本身起的作用比较大\n",
    "        x += self.position_embedding[:,:input_seq_len,:]  #中间做一个切片，为了维度相同\n",
    "\n",
    "        x = self.dropout(x,training =training)\n",
    "\n",
    "        for i in range(self.num_layers):\n",
    "            x = self.encoder_layers[i](x,training,encoder_padding_mask)  #(batch_size,input_seq_len,d_model)\n",
    "        return x\n",
    "\n",
    "sample_encoder_model = EncoderModel(2,8500,max_length,512,8,2048)\n",
    "sample_encoder_model_input = tf.random.uniform((64,37,))\n",
    "sample_encoder_model_output = sample_encoder_model(sample_encoder_model_input,False,encoder_padding_mask = None)\n",
    "print(sample_encoder_model_output.shape)"
   ]
  },
  {
   "cell_type": "code",
   "execution_count": 47,
   "metadata": {},
   "outputs": [
    {
     "name": "stdout",
     "output_type": "stream",
     "text": [
      "(64, 35, 512)\n",
      "(64, 8, 35, 35)\n",
      "(64, 8, 35, 37)\n",
      "(64, 8, 35, 35)\n",
      "(64, 8, 35, 37)\n"
     ]
    }
   ],
   "source": [
    "#    4.5 DecoderModel\n",
    "class DecoderModel(keras.layers.Layer):\n",
    "    def __init__(self,num_layers,target_vocab_size, max_length, d_model,num_heads,dff,rate=0.1):\n",
    "        super(DecoderModel,self).__init__()\n",
    "        self.d_model = d_model\n",
    "        self.num_layers = num_layers\n",
    "        self.max_length = max_length\n",
    "        self.embedding = keras.layers.Embedding(target_vocab_size,self.d_model)\n",
    "\n",
    "        self.position_embedding = get_positional_embedding(max_length,self.d_model) ##shape = (1,max_length,d_model)\n",
    "\n",
    "        self.dropout = keras.layers.Dropout(rate)  #在embedding之后做一次dropout\n",
    "        self.decoder_layers = [\n",
    "            DecoderLayer(d_model,num_heads,dff,rate)\n",
    "            for _ in range(self.num_layers)\n",
    "        ]\n",
    "\n",
    "    def call(self,x,encoding_outputs,training,decoder_mask, encoder_decoder_padding_mask):\n",
    "        output_seq_len = tf.shape(x)[1]   #x.shape = (batch_size,output_seq_len)\n",
    "        tf.debugging.assert_less_equal(output_seq_len,self.max_length,\"output_seq_len should be less or equal to self.max_length\")\n",
    "\n",
    "        attention_weights = {}\n",
    "\n",
    "        x=self.embedding(x)  # x.shape = (batch_size,output_seq_len,d_model)\n",
    "        x *= tf.math.sqrt(tf.cast(self.d_model,tf.float32))  #缩放，为了加上位置编码后X本身起的作用比较大\n",
    "        x += self.position_embedding[:,:output_seq_len,:]  #中间做一个切片，为了维度相同\n",
    "\n",
    "        x = self.dropout(x,training =training)\n",
    "\n",
    "        for i in range(self.num_layers):\n",
    "            x,att1,att2 = self.decoder_layers[i](x,encoding_outputs,training,decoder_mask,encoder_decoder_padding_mask)  #x.shape=(batch_size,output_seq_len,d_model)\n",
    "            attention_weights['decoder_layer{}_att1'.format(i+1)] = att1\n",
    "            attention_weights['decoder_layer{}_att2'.format(i + 1)] = att2\n",
    "        return x, attention_weights\n",
    "\n",
    "sample_decoder_model = DecoderModel(2,8000,max_length,512,8,2048)\n",
    "sample_decoder_model_input = tf.random.uniform((64,35))\n",
    "sample_decoder_model_output, sample_decoder_model_attn= \\\n",
    "    sample_decoder_model(sample_decoder_model_input,sample_encoder_model_output,training = False,decoder_mask = None,encoder_decoder_padding_mask=None)\n",
    "print(sample_decoder_model_output.shape)\n",
    "for key in sample_decoder_model_attn:\n",
    "    print(sample_decoder_model_attn[key].shape)"
   ]
  },
  {
   "cell_type": "code",
   "execution_count": 48,
   "metadata": {},
   "outputs": [
    {
     "name": "stdout",
     "output_type": "stream",
     "text": [
      "(64, 31, 8000)\n",
      "decoder_layer1_att1 (64, 2, 31, 31)\n",
      "decoder_layer1_att2 (64, 2, 31, 26)\n",
      "decoder_layer2_att1 (64, 2, 31, 31)\n",
      "decoder_layer2_att2 (64, 2, 31, 26)\n"
     ]
    }
   ],
   "source": [
    "#    4.6 Transformer\n",
    "class Transformer(keras.Model):\n",
    "    def __init__(self,num_layers, input_vocab_size, target_vocab_size, max_length, d_model,num_heads,dff,rate=0.1):\n",
    "        super(Transformer,self).__init__()\n",
    "        self.encoder_model = EncoderModel(num_layers,input_vocab_size,max_length,d_model,num_heads,dff,rate)\n",
    "        self.decoder_model = DecoderModel(num_layers,target_vocab_size,max_length,d_model,num_layers,dff,rate)\n",
    "\n",
    "        self.final_layer = keras.layers.Dense(target_vocab_size)\n",
    "\n",
    "    def call(self,inp,tar,training, encoder_padding_mask,decoder_mask,encoder_decoder_padding_mask):\n",
    "        encoding_outputs = self.encoder_model(inp,training,encoder_padding_mask)   #shape(batch_size, input_seq_len,d_model)\n",
    "\n",
    "        decoding_outputs,attention_weights = self.decoder_model(tar,encoding_outputs,training,decoder_mask,encoder_decoder_padding_mask) #(batch_size, output_seq_len,d_model)\n",
    "        predictions = self.final_layer(decoding_outputs)  #(batch_size,output_seq_len,target_vocab_size)\n",
    "\n",
    "        return predictions,attention_weights\n",
    "\n",
    "sample_transformer = Transformer(2,8500,8000,max_length,512,8,2048,rate=0.1)\n",
    "temp_input = tf.random.uniform((64,26))\n",
    "temp_target = tf.random.uniform((64,31))\n",
    "\n",
    "predictions,attention_weights = \\\n",
    "    sample_transformer(temp_input,temp_target,training=False, encoder_padding_mask = None,decoder_mask=None,encoder_decoder_padding_mask=None)\n",
    "\n",
    "print(predictions.shape)\n",
    "for key in attention_weights:\n",
    "    print(key,attention_weights[key].shape)"
   ]
  },
  {
   "cell_type": "code",
   "execution_count": 49,
   "metadata": {},
   "outputs": [],
   "source": [
    "# 1. initialize model.\n",
    "# 2. define loss optimizer, learning_rate schedule(自动调节学习率）\n",
    "# 3. train_step\n",
    "# 4. train process\n",
    "\n",
    "# 1. initialize model.创建一个transformer\n",
    "\n",
    "num_layers = 4\n",
    "d_model=128\n",
    "dff=512\n",
    "num_heads=8\n",
    "\n",
    "input_vocab_size = pt_tokenizer.vocab_size+2\n",
    "target_vocab_size = en_tokenizer.vocab_size+2\n",
    "\n",
    "dropout_rate = 0.1\n",
    "\n",
    "transformer = Transformer(num_layers,input_vocab_size,target_vocab_size,max_length,d_model,num_heads,dff,dropout_rate)"
   ]
  },
  {
   "cell_type": "code",
   "execution_count": 50,
   "metadata": {},
   "outputs": [],
   "source": [
    "# 2. define loss optimizer, learning_rate schedule(自动调节学习率）\n",
    "#lrate = (d_model ** -0.5) * min(step_num ** (-0.5),step_num * warm_up_steps ** (-1.5))\n",
    "\n",
    "class CustomizedSchedule(keras.optimizers.schedules.LearningRateSchedule):\n",
    "    def __init__(self,d_model,warmup_steps = 4000):\n",
    "        super(CustomizedSchedule,self).__init__()\n",
    "        \n",
    "        self.d_model = tf.cast(d_model,tf.float32)\n",
    "        self.warmup_steps = warmup_steps\n",
    "    \n",
    "    def __call__(self,step):\n",
    "        arg1 = tf.math.rsqrt(step)\n",
    "        arg2 = step * (self.warmup_steps ** (-1.5))\n",
    "        arg3 = tf.math.rsqrt(self.d_model)\n",
    "        \n",
    "        return arg3 * tf.math.minimum(arg1,arg2)\n",
    "\n",
    "learning_rate = CustomizedSchedule(d_model)\n",
    "optimizer = keras.optimizers.Adam(learning_rate,beta_1=0.9,beta_2=0.98,epsilon=1e-9)"
   ]
  },
  {
   "cell_type": "code",
   "execution_count": 51,
   "metadata": {},
   "outputs": [
    {
     "data": {
      "text/plain": [
       "Text(0.5, 0, 'Train step')"
      ]
     },
     "execution_count": 51,
     "metadata": {},
     "output_type": "execute_result"
    },
    {
     "data": {
      "image/png": "[encoded data removed]",
      "text/plain": [
       "<Figure size 432x288 with 1 Axes>"
      ]
     },
     "metadata": {
      "needs_background": "light"
     },
     "output_type": "display_data"
    }
   ],
   "source": [
    "temp_learning_rate_schedule = CustomizedSchedule(d_model)\n",
    "plt.plot(temp_learning_rate_schedule(tf.range(40000,dtype=tf.float32)))\n",
    "\n",
    "plt.ylabel(\"learning rate\")\n",
    "plt.xlabel(\"Train step\")"
   ]
  },
  {
   "cell_type": "code",
   "execution_count": 52,
   "metadata": {},
   "outputs": [],
   "source": [
    "loss_object = keras.losses.SparseCategoricalCrossentropy(from_logits=True, reduction='none')\n",
    "\n",
    "def loss_function(real,pred):\n",
    "    mask = tf.math.logical_not(tf.math.equal(real,0))\n",
    "    loss_ = loss_object(real,pred)\n",
    "    \n",
    "    mask = tf.cast(mask,dtype=loss_.dtype)\n",
    "    loss_ *= mask\n",
    "    return tf.reduce_mean(loss_)"
   ]
  },
  {
   "cell_type": "code",
   "execution_count": 55,
   "metadata": {},
   "outputs": [],
   "source": [
    "def create_masks(inp,tar):\n",
    "    '''\n",
    "    Encoder:\n",
    "        - encoder_padding_mask (self attention of EncoderLayer)\n",
    "    Decoder:\n",
    "        - look_ahead_mask (self attention of DecoderLayer)\n",
    "        - encoder_decoder_padding_mask (encoder-decoder attention of DecoderLayer)\n",
    "        - decoder_padding_mask (self attention of DecoderLayer)\n",
    "    '''\n",
    "    encoder_padding_mask = create_padding_mask(inp)\n",
    "    encoder_decoder_padding_mask = create_padding_mask(inp)\n",
    "\n",
    "    look_ahead_mask = create_look_ahead_mask(tf.shape(tar)[1])\n",
    "    decoder_padding_mask = create_padding_mask(tar)\n",
    "    decoder_mask = tf.maximum(decoder_padding_mask,look_ahead_mask)\n",
    "\n",
    "    #print(encoder_padding_mask.shape)\n",
    "    #print(encoder_decoder_padding_mask.shape)\n",
    "    #print(look_ahead_mask.shape)\n",
    "    #print(decoder_padding_mask.shape)\n",
    "    #print(decoder_mask.shape)\n",
    "\n",
    "    return encoder_padding_mask,decoder_mask,encoder_decoder_padding_mask"
   ]
  },
  {
   "cell_type": "code",
   "execution_count": 56,
   "metadata": {},
   "outputs": [
    {
     "name": "stdout",
     "output_type": "stream",
     "text": [
      "(64, 35)\n",
      "(64, 37)\n"
     ]
    },
    {
     "data": {
      "text/plain": [
       "(<tf.Tensor: shape=(64, 1, 1, 35), dtype=float32, numpy=\n",
       " array([[[[0., 0., 0., ..., 1., 1., 1.]]],\n",
       " \n",
       " \n",
       "        [[[0., 0., 0., ..., 1., 1., 1.]]],\n",
       " \n",
       " \n",
       "        [[[0., 0., 0., ..., 1., 1., 1.]]],\n",
       " \n",
       " \n",
       "        ...,\n",
       " \n",
       " \n",
       "        [[[0., 0., 0., ..., 1., 1., 1.]]],\n",
       " \n",
       " \n",
       "        [[[0., 0., 0., ..., 1., 1., 1.]]],\n",
       " \n",
       " \n",
       "        [[[0., 0., 0., ..., 1., 1., 1.]]]], dtype=float32)>,\n",
       " <tf.Tensor: shape=(64, 1, 37, 37), dtype=float32, numpy=\n",
       " array([[[[0., 1., 1., ..., 1., 1., 1.],\n",
       "          [0., 0., 1., ..., 1., 1., 1.],\n",
       "          [0., 0., 0., ..., 1., 1., 1.],\n",
       "          ...,\n",
       "          [0., 0., 0., ..., 1., 1., 1.],\n",
       "          [0., 0., 0., ..., 1., 1., 1.],\n",
       "          [0., 0., 0., ..., 1., 1., 1.]]],\n",
       " \n",
       " \n",
       "        [[[0., 1., 1., ..., 1., 1., 1.],\n",
       "          [0., 0., 1., ..., 1., 1., 1.],\n",
       "          [0., 0., 0., ..., 1., 1., 1.],\n",
       "          ...,\n",
       "          [0., 0., 0., ..., 1., 1., 1.],\n",
       "          [0., 0., 0., ..., 1., 1., 1.],\n",
       "          [0., 0., 0., ..., 1., 1., 1.]]],\n",
       " \n",
       " \n",
       "        [[[0., 1., 1., ..., 1., 1., 1.],\n",
       "          [0., 0., 1., ..., 1., 1., 1.],\n",
       "          [0., 0., 0., ..., 1., 1., 1.],\n",
       "          ...,\n",
       "          [0., 0., 0., ..., 1., 1., 1.],\n",
       "          [0., 0., 0., ..., 1., 1., 1.],\n",
       "          [0., 0., 0., ..., 1., 1., 1.]]],\n",
       " \n",
       " \n",
       "        ...,\n",
       " \n",
       " \n",
       "        [[[0., 1., 1., ..., 1., 1., 1.],\n",
       "          [0., 0., 1., ..., 1., 1., 1.],\n",
       "          [0., 0., 0., ..., 1., 1., 1.],\n",
       "          ...,\n",
       "          [0., 0., 0., ..., 1., 1., 1.],\n",
       "          [0., 0., 0., ..., 1., 1., 1.],\n",
       "          [0., 0., 0., ..., 1., 1., 1.]]],\n",
       " \n",
       " \n",
       "        [[[0., 1., 1., ..., 1., 1., 1.],\n",
       "          [0., 0., 1., ..., 1., 1., 1.],\n",
       "          [0., 0., 0., ..., 1., 1., 1.],\n",
       "          ...,\n",
       "          [0., 0., 0., ..., 1., 1., 1.],\n",
       "          [0., 0., 0., ..., 1., 1., 1.],\n",
       "          [0., 0., 0., ..., 1., 1., 1.]]],\n",
       " \n",
       " \n",
       "        [[[0., 1., 1., ..., 1., 1., 1.],\n",
       "          [0., 0., 1., ..., 1., 1., 1.],\n",
       "          [0., 0., 0., ..., 1., 1., 1.],\n",
       "          ...,\n",
       "          [0., 0., 0., ..., 1., 1., 1.],\n",
       "          [0., 0., 0., ..., 1., 1., 1.],\n",
       "          [0., 0., 0., ..., 1., 1., 1.]]]], dtype=float32)>,\n",
       " <tf.Tensor: shape=(64, 1, 1, 35), dtype=float32, numpy=\n",
       " array([[[[0., 0., 0., ..., 1., 1., 1.]]],\n",
       " \n",
       " \n",
       "        [[[0., 0., 0., ..., 1., 1., 1.]]],\n",
       " \n",
       " \n",
       "        [[[0., 0., 0., ..., 1., 1., 1.]]],\n",
       " \n",
       " \n",
       "        ...,\n",
       " \n",
       " \n",
       "        [[[0., 0., 0., ..., 1., 1., 1.]]],\n",
       " \n",
       " \n",
       "        [[[0., 0., 0., ..., 1., 1., 1.]]],\n",
       " \n",
       " \n",
       "        [[[0., 0., 0., ..., 1., 1., 1.]]]], dtype=float32)>)"
      ]
     },
     "execution_count": 56,
     "metadata": {},
     "output_type": "execute_result"
    }
   ],
   "source": [
    "temp_inp, temp_tar = iter(train_dataset.take(1)).next()\n",
    "\n",
    "print(temp_inp.shape)\n",
    "print(temp_tar.shape)\n",
    "create_masks(temp_inp,temp_tar)"
   ]
  },
  {
   "cell_type": "code",
   "execution_count": 57,
   "metadata": {},
   "outputs": [
    {
     "name": "stdout",
     "output_type": "stream",
     "text": [
      "Epoch 1 Batch 0 Loss 3.9059 Accuracy 0.0000\n",
      "WARNING:tensorflow:5 out of the last 5 calls to <function train_step at 0x0000023008B503A8> triggered tf.function retracing. Tracing is expensive and the excessive number of tracings is likely due to passing python objects instead of tensors. Also, tf.function has experimental_relax_shapes=True option that relaxes argument shapes that can avoid unnecessary retracing. Please refer to https://www.tensorflow.org/tutorials/customization/performance#python_or_tensor_args and https://www.tensorflow.org/api_docs/python/tf/function for more details.\n"
     ]
    },
    {
     "name": "stderr",
     "output_type": "stream",
     "text": [
      "WARNING:tensorflow:5 out of the last 5 calls to <function train_step at 0x0000023008B503A8> triggered tf.function retracing. Tracing is expensive and the excessive number of tracings is likely due to passing python objects instead of tensors. Also, tf.function has experimental_relax_shapes=True option that relaxes argument shapes that can avoid unnecessary retracing. Please refer to https://www.tensorflow.org/tutorials/customization/performance#python_or_tensor_args and https://www.tensorflow.org/api_docs/python/tf/function for more details.\n"
     ]
    },
    {
     "name": "stdout",
     "output_type": "stream",
     "text": [
      "WARNING:tensorflow:6 out of the last 6 calls to <function train_step at 0x0000023008B503A8> triggered tf.function retracing. Tracing is expensive and the excessive number of tracings is likely due to passing python objects instead of tensors. Also, tf.function has experimental_relax_shapes=True option that relaxes argument shapes that can avoid unnecessary retracing. Please refer to https://www.tensorflow.org/tutorials/customization/performance#python_or_tensor_args and https://www.tensorflow.org/api_docs/python/tf/function for more details.\n"
     ]
    },
    {
     "name": "stderr",
     "output_type": "stream",
     "text": [
      "WARNING:tensorflow:6 out of the last 6 calls to <function train_step at 0x0000023008B503A8> triggered tf.function retracing. Tracing is expensive and the excessive number of tracings is likely due to passing python objects instead of tensors. Also, tf.function has experimental_relax_shapes=True option that relaxes argument shapes that can avoid unnecessary retracing. Please refer to https://www.tensorflow.org/tutorials/customization/performance#python_or_tensor_args and https://www.tensorflow.org/api_docs/python/tf/function for more details.\n"
     ]
    },
    {
     "name": "stdout",
     "output_type": "stream",
     "text": [
      "WARNING:tensorflow:7 out of the last 8 calls to <function train_step at 0x0000023008B503A8> triggered tf.function retracing. Tracing is expensive and the excessive number of tracings is likely due to passing python objects instead of tensors. Also, tf.function has experimental_relax_shapes=True option that relaxes argument shapes that can avoid unnecessary retracing. Please refer to https://www.tensorflow.org/tutorials/customization/performance#python_or_tensor_args and https://www.tensorflow.org/api_docs/python/tf/function for more details.\n"
     ]
    },
    {
     "name": "stderr",
     "output_type": "stream",
     "text": [
      "WARNING:tensorflow:7 out of the last 8 calls to <function train_step at 0x0000023008B503A8> triggered tf.function retracing. Tracing is expensive and the excessive number of tracings is likely due to passing python objects instead of tensors. Also, tf.function has experimental_relax_shapes=True option that relaxes argument shapes that can avoid unnecessary retracing. Please refer to https://www.tensorflow.org/tutorials/customization/performance#python_or_tensor_args and https://www.tensorflow.org/api_docs/python/tf/function for more details.\n"
     ]
    },
    {
     "name": "stdout",
     "output_type": "stream",
     "text": [
      "WARNING:tensorflow:8 out of the last 9 calls to <function train_step at 0x0000023008B503A8> triggered tf.function retracing. Tracing is expensive and the excessive number of tracings is likely due to passing python objects instead of tensors. Also, tf.function has experimental_relax_shapes=True option that relaxes argument shapes that can avoid unnecessary retracing. Please refer to https://www.tensorflow.org/tutorials/customization/performance#python_or_tensor_args and https://www.tensorflow.org/api_docs/python/tf/function for more details.\n"
     ]
    },
    {
     "name": "stderr",
     "output_type": "stream",
     "text": [
      "WARNING:tensorflow:8 out of the last 9 calls to <function train_step at 0x0000023008B503A8> triggered tf.function retracing. Tracing is expensive and the excessive number of tracings is likely due to passing python objects instead of tensors. Also, tf.function has experimental_relax_shapes=True option that relaxes argument shapes that can avoid unnecessary retracing. Please refer to https://www.tensorflow.org/tutorials/customization/performance#python_or_tensor_args and https://www.tensorflow.org/api_docs/python/tf/function for more details.\n"
     ]
    },
    {
     "name": "stdout",
     "output_type": "stream",
     "text": [
      "WARNING:tensorflow:8 out of the last 11 calls to <function train_step at 0x0000023008B503A8> triggered tf.function retracing. Tracing is expensive and the excessive number of tracings is likely due to passing python objects instead of tensors. Also, tf.function has experimental_relax_shapes=True option that relaxes argument shapes that can avoid unnecessary retracing. Please refer to https://www.tensorflow.org/tutorials/customization/performance#python_or_tensor_args and https://www.tensorflow.org/api_docs/python/tf/function for more details.\n"
     ]
    },
    {
     "name": "stderr",
     "output_type": "stream",
     "text": [
      "WARNING:tensorflow:8 out of the last 11 calls to <function train_step at 0x0000023008B503A8> triggered tf.function retracing. Tracing is expensive and the excessive number of tracings is likely due to passing python objects instead of tensors. Also, tf.function has experimental_relax_shapes=True option that relaxes argument shapes that can avoid unnecessary retracing. Please refer to https://www.tensorflow.org/tutorials/customization/performance#python_or_tensor_args and https://www.tensorflow.org/api_docs/python/tf/function for more details.\n"
     ]
    },
    {
     "name": "stdout",
     "output_type": "stream",
     "text": [
      "WARNING:tensorflow:8 out of the last 11 calls to <function train_step at 0x0000023008B503A8> triggered tf.function retracing. Tracing is expensive and the excessive number of tracings is likely due to passing python objects instead of tensors. Also, tf.function has experimental_relax_shapes=True option that relaxes argument shapes that can avoid unnecessary retracing. Please refer to https://www.tensorflow.org/tutorials/customization/performance#python_or_tensor_args and https://www.tensorflow.org/api_docs/python/tf/function for more details.\n"
     ]
    },
    {
     "name": "stderr",
     "output_type": "stream",
     "text": [
      "WARNING:tensorflow:8 out of the last 11 calls to <function train_step at 0x0000023008B503A8> triggered tf.function retracing. Tracing is expensive and the excessive number of tracings is likely due to passing python objects instead of tensors. Also, tf.function has experimental_relax_shapes=True option that relaxes argument shapes that can avoid unnecessary retracing. Please refer to https://www.tensorflow.org/tutorials/customization/performance#python_or_tensor_args and https://www.tensorflow.org/api_docs/python/tf/function for more details.\n"
     ]
    },
    {
     "name": "stdout",
     "output_type": "stream",
     "text": [
      "WARNING:tensorflow:8 out of the last 11 calls to <function train_step at 0x0000023008B503A8> triggered tf.function retracing. Tracing is expensive and the excessive number of tracings is likely due to passing python objects instead of tensors. Also, tf.function has experimental_relax_shapes=True option that relaxes argument shapes that can avoid unnecessary retracing. Please refer to https://www.tensorflow.org/tutorials/customization/performance#python_or_tensor_args and https://www.tensorflow.org/api_docs/python/tf/function for more details.\n"
     ]
    },
    {
     "name": "stderr",
     "output_type": "stream",
     "text": [
      "WARNING:tensorflow:8 out of the last 11 calls to <function train_step at 0x0000023008B503A8> triggered tf.function retracing. Tracing is expensive and the excessive number of tracings is likely due to passing python objects instead of tensors. Also, tf.function has experimental_relax_shapes=True option that relaxes argument shapes that can avoid unnecessary retracing. Please refer to https://www.tensorflow.org/tutorials/customization/performance#python_or_tensor_args and https://www.tensorflow.org/api_docs/python/tf/function for more details.\n"
     ]
    },
    {
     "name": "stdout",
     "output_type": "stream",
     "text": [
      "WARNING:tensorflow:8 out of the last 11 calls to <function train_step at 0x0000023008B503A8> triggered tf.function retracing. Tracing is expensive and the excessive number of tracings is likely due to passing python objects instead of tensors. Also, tf.function has experimental_relax_shapes=True option that relaxes argument shapes that can avoid unnecessary retracing. Please refer to https://www.tensorflow.org/tutorials/customization/performance#python_or_tensor_args and https://www.tensorflow.org/api_docs/python/tf/function for more details.\n"
     ]
    },
    {
     "name": "stderr",
     "output_type": "stream",
     "text": [
      "WARNING:tensorflow:8 out of the last 11 calls to <function train_step at 0x0000023008B503A8> triggered tf.function retracing. Tracing is expensive and the excessive number of tracings is likely due to passing python objects instead of tensors. Also, tf.function has experimental_relax_shapes=True option that relaxes argument shapes that can avoid unnecessary retracing. Please refer to https://www.tensorflow.org/tutorials/customization/performance#python_or_tensor_args and https://www.tensorflow.org/api_docs/python/tf/function for more details.\n"
     ]
    },
    {
     "name": "stdout",
     "output_type": "stream",
     "text": [
      "WARNING:tensorflow:8 out of the last 11 calls to <function train_step at 0x0000023008B503A8> triggered tf.function retracing. Tracing is expensive and the excessive number of tracings is likely due to passing python objects instead of tensors. Also, tf.function has experimental_relax_shapes=True option that relaxes argument shapes that can avoid unnecessary retracing. Please refer to https://www.tensorflow.org/tutorials/customization/performance#python_or_tensor_args and https://www.tensorflow.org/api_docs/python/tf/function for more details.\n"
     ]
    },
    {
     "name": "stderr",
     "output_type": "stream",
     "text": [
      "WARNING:tensorflow:8 out of the last 11 calls to <function train_step at 0x0000023008B503A8> triggered tf.function retracing. Tracing is expensive and the excessive number of tracings is likely due to passing python objects instead of tensors. Also, tf.function has experimental_relax_shapes=True option that relaxes argument shapes that can avoid unnecessary retracing. Please refer to https://www.tensorflow.org/tutorials/customization/performance#python_or_tensor_args and https://www.tensorflow.org/api_docs/python/tf/function for more details.\n"
     ]
    },
    {
     "name": "stdout",
     "output_type": "stream",
     "text": [
      "WARNING:tensorflow:7 out of the last 11 calls to <function train_step at 0x0000023008B503A8> triggered tf.function retracing. Tracing is expensive and the excessive number of tracings is likely due to passing python objects instead of tensors. Also, tf.function has experimental_relax_shapes=True option that relaxes argument shapes that can avoid unnecessary retracing. Please refer to https://www.tensorflow.org/tutorials/customization/performance#python_or_tensor_args and https://www.tensorflow.org/api_docs/python/tf/function for more details.\n"
     ]
    },
    {
     "name": "stderr",
     "output_type": "stream",
     "text": [
      "WARNING:tensorflow:7 out of the last 11 calls to <function train_step at 0x0000023008B503A8> triggered tf.function retracing. Tracing is expensive and the excessive number of tracings is likely due to passing python objects instead of tensors. Also, tf.function has experimental_relax_shapes=True option that relaxes argument shapes that can avoid unnecessary retracing. Please refer to https://www.tensorflow.org/tutorials/customization/performance#python_or_tensor_args and https://www.tensorflow.org/api_docs/python/tf/function for more details.\n"
     ]
    },
    {
     "name": "stdout",
     "output_type": "stream",
     "text": [
      "WARNING:tensorflow:8 out of the last 13 calls to <function train_step at 0x0000023008B503A8> triggered tf.function retracing. Tracing is expensive and the excessive number of tracings is likely due to passing python objects instead of tensors. Also, tf.function has experimental_relax_shapes=True option that relaxes argument shapes that can avoid unnecessary retracing. Please refer to https://www.tensorflow.org/tutorials/customization/performance#python_or_tensor_args and https://www.tensorflow.org/api_docs/python/tf/function for more details.\n"
     ]
    },
    {
     "name": "stderr",
     "output_type": "stream",
     "text": [
      "WARNING:tensorflow:8 out of the last 13 calls to <function train_step at 0x0000023008B503A8> triggered tf.function retracing. Tracing is expensive and the excessive number of tracings is likely due to passing python objects instead of tensors. Also, tf.function has experimental_relax_shapes=True option that relaxes argument shapes that can avoid unnecessary retracing. Please refer to https://www.tensorflow.org/tutorials/customization/performance#python_or_tensor_args and https://www.tensorflow.org/api_docs/python/tf/function for more details.\n"
     ]
    },
    {
     "name": "stdout",
     "output_type": "stream",
     "text": [
      "WARNING:tensorflow:5 out of the last 11 calls to <function train_step at 0x0000023008B503A8> triggered tf.function retracing. Tracing is expensive and the excessive number of tracings is likely due to passing python objects instead of tensors. Also, tf.function has experimental_relax_shapes=True option that relaxes argument shapes that can avoid unnecessary retracing. Please refer to https://www.tensorflow.org/tutorials/customization/performance#python_or_tensor_args and https://www.tensorflow.org/api_docs/python/tf/function for more details.\n"
     ]
    },
    {
     "name": "stderr",
     "output_type": "stream",
     "text": [
      "WARNING:tensorflow:5 out of the last 11 calls to <function train_step at 0x0000023008B503A8> triggered tf.function retracing. Tracing is expensive and the excessive number of tracings is likely due to passing python objects instead of tensors. Also, tf.function has experimental_relax_shapes=True option that relaxes argument shapes that can avoid unnecessary retracing. Please refer to https://www.tensorflow.org/tutorials/customization/performance#python_or_tensor_args and https://www.tensorflow.org/api_docs/python/tf/function for more details.\n"
     ]
    },
    {
     "name": "stdout",
     "output_type": "stream",
     "text": [
      "WARNING:tensorflow:5 out of the last 11 calls to <function train_step at 0x0000023008B503A8> triggered tf.function retracing. Tracing is expensive and the excessive number of tracings is likely due to passing python objects instead of tensors. Also, tf.function has experimental_relax_shapes=True option that relaxes argument shapes that can avoid unnecessary retracing. Please refer to https://www.tensorflow.org/tutorials/customization/performance#python_or_tensor_args and https://www.tensorflow.org/api_docs/python/tf/function for more details.\n"
     ]
    },
    {
     "name": "stderr",
     "output_type": "stream",
     "text": [
      "WARNING:tensorflow:5 out of the last 11 calls to <function train_step at 0x0000023008B503A8> triggered tf.function retracing. Tracing is expensive and the excessive number of tracings is likely due to passing python objects instead of tensors. Also, tf.function has experimental_relax_shapes=True option that relaxes argument shapes that can avoid unnecessary retracing. Please refer to https://www.tensorflow.org/tutorials/customization/performance#python_or_tensor_args and https://www.tensorflow.org/api_docs/python/tf/function for more details.\n"
     ]
    },
    {
     "name": "stdout",
     "output_type": "stream",
     "text": [
      "WARNING:tensorflow:6 out of the last 12 calls to <function train_step at 0x0000023008B503A8> triggered tf.function retracing. Tracing is expensive and the excessive number of tracings is likely due to passing python objects instead of tensors. Also, tf.function has experimental_relax_shapes=True option that relaxes argument shapes that can avoid unnecessary retracing. Please refer to https://www.tensorflow.org/tutorials/customization/performance#python_or_tensor_args and https://www.tensorflow.org/api_docs/python/tf/function for more details.\n"
     ]
    },
    {
     "name": "stderr",
     "output_type": "stream",
     "text": [
      "WARNING:tensorflow:6 out of the last 12 calls to <function train_step at 0x0000023008B503A8> triggered tf.function retracing. Tracing is expensive and the excessive number of tracings is likely due to passing python objects instead of tensors. Also, tf.function has experimental_relax_shapes=True option that relaxes argument shapes that can avoid unnecessary retracing. Please refer to https://www.tensorflow.org/tutorials/customization/performance#python_or_tensor_args and https://www.tensorflow.org/api_docs/python/tf/function for more details.\n"
     ]
    },
    {
     "name": "stdout",
     "output_type": "stream",
     "text": [
      "WARNING:tensorflow:5 out of the last 11 calls to <function train_step at 0x0000023008B503A8> triggered tf.function retracing. Tracing is expensive and the excessive number of tracings is likely due to passing python objects instead of tensors. Also, tf.function has experimental_relax_shapes=True option that relaxes argument shapes that can avoid unnecessary retracing. Please refer to https://www.tensorflow.org/tutorials/customization/performance#python_or_tensor_args and https://www.tensorflow.org/api_docs/python/tf/function for more details.\n"
     ]
    },
    {
     "name": "stderr",
     "output_type": "stream",
     "text": [
      "WARNING:tensorflow:5 out of the last 11 calls to <function train_step at 0x0000023008B503A8> triggered tf.function retracing. Tracing is expensive and the excessive number of tracings is likely due to passing python objects instead of tensors. Also, tf.function has experimental_relax_shapes=True option that relaxes argument shapes that can avoid unnecessary retracing. Please refer to https://www.tensorflow.org/tutorials/customization/performance#python_or_tensor_args and https://www.tensorflow.org/api_docs/python/tf/function for more details.\n"
     ]
    },
    {
     "name": "stdout",
     "output_type": "stream",
     "text": [
      "WARNING:tensorflow:6 out of the last 12 calls to <function train_step at 0x0000023008B503A8> triggered tf.function retracing. Tracing is expensive and the excessive number of tracings is likely due to passing python objects instead of tensors. Also, tf.function has experimental_relax_shapes=True option that relaxes argument shapes that can avoid unnecessary retracing. Please refer to https://www.tensorflow.org/tutorials/customization/performance#python_or_tensor_args and https://www.tensorflow.org/api_docs/python/tf/function for more details.\n"
     ]
    },
    {
     "name": "stderr",
     "output_type": "stream",
     "text": [
      "WARNING:tensorflow:6 out of the last 12 calls to <function train_step at 0x0000023008B503A8> triggered tf.function retracing. Tracing is expensive and the excessive number of tracings is likely due to passing python objects instead of tensors. Also, tf.function has experimental_relax_shapes=True option that relaxes argument shapes that can avoid unnecessary retracing. Please refer to https://www.tensorflow.org/tutorials/customization/performance#python_or_tensor_args and https://www.tensorflow.org/api_docs/python/tf/function for more details.\n"
     ]
    },
    {
     "name": "stdout",
     "output_type": "stream",
     "text": [
      "WARNING:tensorflow:5 out of the last 12 calls to <function train_step at 0x0000023008B503A8> triggered tf.function retracing. Tracing is expensive and the excessive number of tracings is likely due to passing python objects instead of tensors. Also, tf.function has experimental_relax_shapes=True option that relaxes argument shapes that can avoid unnecessary retracing. Please refer to https://www.tensorflow.org/tutorials/customization/performance#python_or_tensor_args and https://www.tensorflow.org/api_docs/python/tf/function for more details.\n"
     ]
    },
    {
     "name": "stderr",
     "output_type": "stream",
     "text": [
      "WARNING:tensorflow:5 out of the last 12 calls to <function train_step at 0x0000023008B503A8> triggered tf.function retracing. Tracing is expensive and the excessive number of tracings is likely due to passing python objects instead of tensors. Also, tf.function has experimental_relax_shapes=True option that relaxes argument shapes that can avoid unnecessary retracing. Please refer to https://www.tensorflow.org/tutorials/customization/performance#python_or_tensor_args and https://www.tensorflow.org/api_docs/python/tf/function for more details.\n"
     ]
    },
    {
     "name": "stdout",
     "output_type": "stream",
     "text": [
      "WARNING:tensorflow:6 out of the last 14 calls to <function train_step at 0x0000023008B503A8> triggered tf.function retracing. Tracing is expensive and the excessive number of tracings is likely due to passing python objects instead of tensors. Also, tf.function has experimental_relax_shapes=True option that relaxes argument shapes that can avoid unnecessary retracing. Please refer to https://www.tensorflow.org/tutorials/customization/performance#python_or_tensor_args and https://www.tensorflow.org/api_docs/python/tf/function for more details.\n"
     ]
    },
    {
     "name": "stderr",
     "output_type": "stream",
     "text": [
      "WARNING:tensorflow:6 out of the last 14 calls to <function train_step at 0x0000023008B503A8> triggered tf.function retracing. Tracing is expensive and the excessive number of tracings is likely due to passing python objects instead of tensors. Also, tf.function has experimental_relax_shapes=True option that relaxes argument shapes that can avoid unnecessary retracing. Please refer to https://www.tensorflow.org/tutorials/customization/performance#python_or_tensor_args and https://www.tensorflow.org/api_docs/python/tf/function for more details.\n"
     ]
    },
    {
     "name": "stdout",
     "output_type": "stream",
     "text": [
      "WARNING:tensorflow:6 out of the last 11 calls to <function train_step at 0x0000023008B503A8> triggered tf.function retracing. Tracing is expensive and the excessive number of tracings is likely due to passing python objects instead of tensors. Also, tf.function has experimental_relax_shapes=True option that relaxes argument shapes that can avoid unnecessary retracing. Please refer to https://www.tensorflow.org/tutorials/customization/performance#python_or_tensor_args and https://www.tensorflow.org/api_docs/python/tf/function for more details.\n"
     ]
    },
    {
     "name": "stderr",
     "output_type": "stream",
     "text": [
      "WARNING:tensorflow:6 out of the last 11 calls to <function train_step at 0x0000023008B503A8> triggered tf.function retracing. Tracing is expensive and the excessive number of tracings is likely due to passing python objects instead of tensors. Also, tf.function has experimental_relax_shapes=True option that relaxes argument shapes that can avoid unnecessary retracing. Please refer to https://www.tensorflow.org/tutorials/customization/performance#python_or_tensor_args and https://www.tensorflow.org/api_docs/python/tf/function for more details.\n"
     ]
    },
    {
     "name": "stdout",
     "output_type": "stream",
     "text": [
      "WARNING:tensorflow:6 out of the last 11 calls to <function train_step at 0x0000023008B503A8> triggered tf.function retracing. Tracing is expensive and the excessive number of tracings is likely due to passing python objects instead of tensors. Also, tf.function has experimental_relax_shapes=True option that relaxes argument shapes that can avoid unnecessary retracing. Please refer to https://www.tensorflow.org/tutorials/customization/performance#python_or_tensor_args and https://www.tensorflow.org/api_docs/python/tf/function for more details.\n"
     ]
    },
    {
     "name": "stderr",
     "output_type": "stream",
     "text": [
      "WARNING:tensorflow:6 out of the last 11 calls to <function train_step at 0x0000023008B503A8> triggered tf.function retracing. Tracing is expensive and the excessive number of tracings is likely due to passing python objects instead of tensors. Also, tf.function has experimental_relax_shapes=True option that relaxes argument shapes that can avoid unnecessary retracing. Please refer to https://www.tensorflow.org/tutorials/customization/performance#python_or_tensor_args and https://www.tensorflow.org/api_docs/python/tf/function for more details.\n"
     ]
    },
    {
     "name": "stdout",
     "output_type": "stream",
     "text": [
      "WARNING:tensorflow:5 out of the last 12 calls to <function train_step at 0x0000023008B503A8> triggered tf.function retracing. Tracing is expensive and the excessive number of tracings is likely due to passing python objects instead of tensors. Also, tf.function has experimental_relax_shapes=True option that relaxes argument shapes that can avoid unnecessary retracing. Please refer to https://www.tensorflow.org/tutorials/customization/performance#python_or_tensor_args and https://www.tensorflow.org/api_docs/python/tf/function for more details.\n"
     ]
    },
    {
     "name": "stderr",
     "output_type": "stream",
     "text": [
      "WARNING:tensorflow:5 out of the last 12 calls to <function train_step at 0x0000023008B503A8> triggered tf.function retracing. Tracing is expensive and the excessive number of tracings is likely due to passing python objects instead of tensors. Also, tf.function has experimental_relax_shapes=True option that relaxes argument shapes that can avoid unnecessary retracing. Please refer to https://www.tensorflow.org/tutorials/customization/performance#python_or_tensor_args and https://www.tensorflow.org/api_docs/python/tf/function for more details.\n"
     ]
    },
    {
     "name": "stdout",
     "output_type": "stream",
     "text": [
      "Epoch 1 Batch 100 Loss 4.2014 Accuracy 0.0114\n",
      "Epoch 1 Batch 200 Loss 4.0901 Accuracy 0.0191\n",
      "WARNING:tensorflow:5 out of the last 20 calls to <function train_step at 0x0000023008B503A8> triggered tf.function retracing. Tracing is expensive and the excessive number of tracings is likely due to passing python objects instead of tensors. Also, tf.function has experimental_relax_shapes=True option that relaxes argument shapes that can avoid unnecessary retracing. Please refer to https://www.tensorflow.org/tutorials/customization/performance#python_or_tensor_args and https://www.tensorflow.org/api_docs/python/tf/function for more details.\n"
     ]
    },
    {
     "name": "stderr",
     "output_type": "stream",
     "text": [
      "WARNING:tensorflow:5 out of the last 20 calls to <function train_step at 0x0000023008B503A8> triggered tf.function retracing. Tracing is expensive and the excessive number of tracings is likely due to passing python objects instead of tensors. Also, tf.function has experimental_relax_shapes=True option that relaxes argument shapes that can avoid unnecessary retracing. Please refer to https://www.tensorflow.org/tutorials/customization/performance#python_or_tensor_args and https://www.tensorflow.org/api_docs/python/tf/function for more details.\n"
     ]
    },
    {
     "name": "stdout",
     "output_type": "stream",
     "text": [
      "Epoch 1 Batch 300 Loss 3.9271 Accuracy 0.0222\n",
      "Epoch 1 Batch 400 Loss 3.7499 Accuracy 0.0288\n",
      "Epoch 1 Batch 500 Loss 3.6000 Accuracy 0.0349\n",
      "Epoch 1 Batch 600 Loss 3.4784 Accuracy 0.0422\n",
      "Epoch 1 Batch 700 Loss 3.3701 Accuracy 0.0493\n",
      "Epoch 1 Loss 3.3675 Accuracy 0.0494\n",
      "Time take for 1 epoch: 1178.2931780815125 secs\n",
      "\n",
      "Epoch 2 Batch 0 Loss 2.6960 Accuracy 0.1057\n",
      "Epoch 2 Batch 100 Loss 2.5540 Accuracy 0.1037\n",
      "Epoch 2 Batch 200 Loss 2.5082 Accuracy 0.1082\n",
      "Epoch 2 Batch 300 Loss 2.4788 Accuracy 0.1125\n",
      "Epoch 2 Batch 400 Loss 2.4516 Accuracy 0.1162\n",
      "Epoch 2 Batch 500 Loss 2.4198 Accuracy 0.1193\n",
      "Epoch 2 Batch 600 Loss 2.3957 Accuracy 0.1222\n",
      "Epoch 2 Batch 700 Loss 2.3700 Accuracy 0.1245\n",
      "Epoch 2 Loss 2.3703 Accuracy 0.1245\n",
      "Time take for 1 epoch: 892.9876217842102 secs\n",
      "\n",
      "Epoch 3 Batch 0 Loss 2.0519 Accuracy 0.1508\n",
      "Epoch 3 Batch 100 Loss 2.1611 Accuracy 0.1432\n",
      "Epoch 3 Batch 200 Loss 2.1644 Accuracy 0.1455\n",
      "Epoch 3 Batch 300 Loss 2.1578 Accuracy 0.1472\n",
      "Epoch 3 Batch 400 Loss 2.1543 Accuracy 0.1484\n",
      "Epoch 3 Batch 500 Loss 2.1374 Accuracy 0.1496\n",
      "Epoch 3 Batch 600 Loss 2.1194 Accuracy 0.1511\n",
      "Epoch 3 Batch 700 Loss 2.1013 Accuracy 0.1529\n",
      "Epoch 3 Loss 2.1010 Accuracy 0.1529\n",
      "Time take for 1 epoch: 965.4455142021179 secs\n",
      "\n",
      "Epoch 4 Batch 0 Loss 1.9406 Accuracy 0.1811\n",
      "Epoch 4 Batch 100 Loss 1.9118 Accuracy 0.1694\n",
      "Epoch 4 Batch 200 Loss 1.9244 Accuracy 0.1729\n",
      "Epoch 4 Batch 300 Loss 1.9039 Accuracy 0.1750\n",
      "Epoch 4 Batch 400 Loss 1.8868 Accuracy 0.1770\n",
      "Epoch 4 Batch 500 Loss 1.8700 Accuracy 0.1788\n",
      "Epoch 4 Batch 600 Loss 1.8556 Accuracy 0.1807\n",
      "Epoch 4 Batch 700 Loss 1.8435 Accuracy 0.1827\n",
      "Epoch 4 Loss 1.8436 Accuracy 0.1828\n",
      "Time take for 1 epoch: 967.8410568237305 secs\n",
      "\n",
      "Epoch 5 Batch 0 Loss 1.5905 Accuracy 0.2039\n",
      "Epoch 5 Batch 100 Loss 1.6649 Accuracy 0.2021\n",
      "Epoch 5 Batch 200 Loss 1.6576 Accuracy 0.2026\n",
      "Epoch 5 Batch 300 Loss 1.6515 Accuracy 0.2036\n",
      "Epoch 5 Batch 400 Loss 1.6448 Accuracy 0.2057\n",
      "Epoch 5 Batch 500 Loss 1.6338 Accuracy 0.2066\n",
      "Epoch 5 Batch 600 Loss 1.6285 Accuracy 0.2081\n",
      "Epoch 5 Batch 700 Loss 1.6219 Accuracy 0.2092\n",
      "Epoch 5 Loss 1.6219 Accuracy 0.2092\n",
      "Time take for 1 epoch: 973.6602511405945 secs\n",
      "\n",
      "Epoch 6 Batch 0 Loss 1.4866 Accuracy 0.2209\n",
      "Epoch 6 Batch 100 Loss 1.4641 Accuracy 0.2251\n",
      "Epoch 6 Batch 200 Loss 1.4593 Accuracy 0.2256\n",
      "Epoch 6 Batch 300 Loss 1.4568 Accuracy 0.2264\n",
      "Epoch 6 Batch 400 Loss 1.4519 Accuracy 0.2272\n",
      "Epoch 6 Batch 500 Loss 1.4443 Accuracy 0.2282\n",
      "Epoch 6 Batch 600 Loss 1.4400 Accuracy 0.2292\n",
      "Epoch 6 Batch 700 Loss 1.4315 Accuracy 0.2305\n",
      "Epoch 6 Loss 1.4320 Accuracy 0.2305\n",
      "Time take for 1 epoch: 1012.6618366241455 secs\n",
      "\n",
      "Epoch 7 Batch 0 Loss 1.3173 Accuracy 0.2513\n",
      "Epoch 7 Batch 100 Loss 1.2722 Accuracy 0.2484\n",
      "Epoch 7 Batch 200 Loss 1.2750 Accuracy 0.2492\n",
      "Epoch 7 Batch 300 Loss 1.2662 Accuracy 0.2503\n",
      "Epoch 7 Batch 400 Loss 1.2569 Accuracy 0.2510\n",
      "Epoch 7 Batch 500 Loss 1.2513 Accuracy 0.2509\n",
      "Epoch 7 Batch 600 Loss 1.2469 Accuracy 0.2521\n",
      "Epoch 7 Batch 700 Loss 1.2413 Accuracy 0.2528\n",
      "Epoch 7 Loss 1.2411 Accuracy 0.2528\n",
      "Time take for 1 epoch: 1030.1913039684296 secs\n",
      "\n",
      "Epoch 8 Batch 0 Loss 1.1185 Accuracy 0.3090\n",
      "Epoch 8 Batch 100 Loss 1.0920 Accuracy 0.2681\n",
      "Epoch 8 Batch 200 Loss 1.1019 Accuracy 0.2678\n",
      "Epoch 8 Batch 300 Loss 1.0999 Accuracy 0.2686\n",
      "Epoch 8 Batch 400 Loss 1.0943 Accuracy 0.2699\n",
      "Epoch 8 Batch 500 Loss 1.0980 Accuracy 0.2706\n",
      "Epoch 8 Batch 600 Loss 1.0956 Accuracy 0.2710\n",
      "Epoch 8 Batch 700 Loss 1.0938 Accuracy 0.2710\n",
      "Epoch 8 Loss 1.0938 Accuracy 0.2710\n",
      "Time take for 1 epoch: 1183.563359260559 secs\n",
      "\n",
      "Epoch 9 Batch 0 Loss 0.9511 Accuracy 0.3002\n",
      "Epoch 9 Batch 100 Loss 0.9729 Accuracy 0.2869\n",
      "Epoch 9 Batch 200 Loss 0.9747 Accuracy 0.2835\n",
      "Epoch 9 Batch 300 Loss 0.9811 Accuracy 0.2848\n",
      "Epoch 9 Batch 400 Loss 0.9854 Accuracy 0.2852\n",
      "Epoch 9 Batch 500 Loss 0.9845 Accuracy 0.2848\n",
      "Epoch 9 Batch 600 Loss 0.9863 Accuracy 0.2849\n",
      "Epoch 9 Batch 700 Loss 0.9868 Accuracy 0.2843\n",
      "Epoch 9 Loss 0.9868 Accuracy 0.2844\n",
      "Time take for 1 epoch: 1265.5875098705292 secs\n",
      "\n",
      "Epoch 10 Batch 0 Loss 0.9303 Accuracy 0.3213\n",
      "Epoch 10 Batch 100 Loss 0.8840 Accuracy 0.2959\n",
      "Epoch 10 Batch 200 Loss 0.8832 Accuracy 0.2952\n",
      "Epoch 10 Batch 300 Loss 0.8892 Accuracy 0.2941\n",
      "Epoch 10 Batch 400 Loss 0.8921 Accuracy 0.2950\n",
      "Epoch 10 Batch 500 Loss 0.8972 Accuracy 0.2952\n",
      "Epoch 10 Batch 600 Loss 0.9025 Accuracy 0.2951\n",
      "Epoch 10 Batch 700 Loss 0.9064 Accuracy 0.2950\n",
      "Epoch 10 Loss 0.9064 Accuracy 0.2949\n",
      "Time take for 1 epoch: 1262.2540926933289 secs\n",
      "\n",
      "Epoch 11 Batch 0 Loss 0.8827 Accuracy 0.3043\n",
      "Epoch 11 Batch 100 Loss 0.8099 Accuracy 0.3075\n",
      "Epoch 11 Batch 200 Loss 0.8142 Accuracy 0.3053\n",
      "Epoch 11 Batch 300 Loss 0.8209 Accuracy 0.3041\n",
      "Epoch 11 Batch 400 Loss 0.8279 Accuracy 0.3042\n",
      "Epoch 11 Batch 500 Loss 0.8330 Accuracy 0.3039\n",
      "Epoch 11 Batch 600 Loss 0.8366 Accuracy 0.3035\n",
      "Epoch 11 Batch 700 Loss 0.8415 Accuracy 0.3033\n",
      "Epoch 11 Loss 0.8420 Accuracy 0.3034\n",
      "Time take for 1 epoch: 1411.9265761375427 secs\n",
      "\n",
      "Epoch 12 Batch 0 Loss 0.7536 Accuracy 0.3005\n",
      "Epoch 12 Batch 100 Loss 0.7454 Accuracy 0.3134\n",
      "Epoch 12 Batch 200 Loss 0.7597 Accuracy 0.3135\n",
      "Epoch 12 Batch 300 Loss 0.7652 Accuracy 0.3114\n",
      "Epoch 12 Batch 400 Loss 0.7717 Accuracy 0.3115\n",
      "Epoch 12 Batch 500 Loss 0.7760 Accuracy 0.3109\n",
      "Epoch 12 Batch 600 Loss 0.7805 Accuracy 0.3105\n",
      "Epoch 12 Batch 700 Loss 0.7849 Accuracy 0.3098\n",
      "Epoch 12 Loss 0.7849 Accuracy 0.3098\n",
      "Time take for 1 epoch: 1344.036086320877 secs\n",
      "\n",
      "Epoch 13 Batch 0 Loss 0.7933 Accuracy 0.3674\n",
      "Epoch 13 Batch 100 Loss 0.7016 Accuracy 0.3190\n",
      "Epoch 13 Batch 200 Loss 0.7131 Accuracy 0.3181\n",
      "Epoch 13 Batch 300 Loss 0.7210 Accuracy 0.3173\n",
      "Epoch 13 Batch 400 Loss 0.7251 Accuracy 0.3173\n",
      "Epoch 13 Batch 500 Loss 0.7296 Accuracy 0.3171\n",
      "Epoch 13 Batch 600 Loss 0.7358 Accuracy 0.3168\n",
      "Epoch 13 Batch 700 Loss 0.7426 Accuracy 0.3162\n",
      "Epoch 13 Loss 0.7429 Accuracy 0.3162\n",
      "Time take for 1 epoch: 1218.7634825706482 secs\n",
      "\n",
      "Epoch 14 Batch 0 Loss 0.4990 Accuracy 0.2985\n",
      "Epoch 14 Batch 100 Loss 0.6618 Accuracy 0.3243\n",
      "Epoch 14 Batch 200 Loss 0.6753 Accuracy 0.3231\n",
      "Epoch 14 Batch 300 Loss 0.6821 Accuracy 0.3231\n",
      "Epoch 14 Batch 400 Loss 0.6902 Accuracy 0.3235\n",
      "Epoch 14 Batch 500 Loss 0.6941 Accuracy 0.3229\n",
      "Epoch 14 Batch 600 Loss 0.6988 Accuracy 0.3219\n",
      "Epoch 14 Batch 700 Loss 0.7025 Accuracy 0.3213\n",
      "Epoch 14 Loss 0.7024 Accuracy 0.3213\n",
      "Time take for 1 epoch: 1197.302799463272 secs\n",
      "\n",
      "Epoch 15 Batch 0 Loss 0.5894 Accuracy 0.3221\n",
      "Epoch 15 Batch 100 Loss 0.6246 Accuracy 0.3298\n",
      "Epoch 15 Batch 200 Loss 0.6396 Accuracy 0.3284\n",
      "Epoch 15 Batch 300 Loss 0.6453 Accuracy 0.3278\n",
      "Epoch 15 Batch 400 Loss 0.6493 Accuracy 0.3273\n",
      "Epoch 15 Batch 500 Loss 0.6551 Accuracy 0.3271\n",
      "Epoch 15 Batch 600 Loss 0.6598 Accuracy 0.3265\n",
      "Epoch 15 Batch 700 Loss 0.6677 Accuracy 0.3262\n",
      "Epoch 15 Loss 0.6679 Accuracy 0.3263\n",
      "Time take for 1 epoch: 1135.7464516162872 secs\n",
      "\n",
      "Epoch 16 Batch 0 Loss 0.6524 Accuracy 0.3720\n",
      "Epoch 16 Batch 100 Loss 0.5938 Accuracy 0.3334\n",
      "Epoch 16 Batch 200 Loss 0.6100 Accuracy 0.3348\n",
      "Epoch 16 Batch 300 Loss 0.6171 Accuracy 0.3336\n",
      "Epoch 16 Batch 400 Loss 0.6219 Accuracy 0.3333\n",
      "Epoch 16 Batch 500 Loss 0.6274 Accuracy 0.3325\n",
      "Epoch 16 Batch 600 Loss 0.6335 Accuracy 0.3324\n",
      "Epoch 16 Batch 700 Loss 0.6377 Accuracy 0.3309\n",
      "Epoch 16 Loss 0.6378 Accuracy 0.3309\n",
      "Time take for 1 epoch: 1298.5556058883667 secs\n",
      "\n",
      "Epoch 17 Batch 0 Loss 0.4847 Accuracy 0.3405\n",
      "Epoch 17 Batch 100 Loss 0.5779 Accuracy 0.3398\n",
      "Epoch 17 Batch 200 Loss 0.5884 Accuracy 0.3390\n",
      "Epoch 17 Batch 300 Loss 0.5932 Accuracy 0.3386\n",
      "Epoch 17 Batch 400 Loss 0.5980 Accuracy 0.3377\n",
      "Epoch 17 Batch 500 Loss 0.6003 Accuracy 0.3369\n",
      "Epoch 17 Batch 600 Loss 0.6046 Accuracy 0.3357\n",
      "Epoch 17 Batch 700 Loss 0.6105 Accuracy 0.3353\n",
      "Epoch 17 Loss 0.6107 Accuracy 0.3353\n",
      "Time take for 1 epoch: 1250.939172744751 secs\n",
      "\n",
      "Epoch 18 Batch 0 Loss 0.5832 Accuracy 0.3248\n",
      "Epoch 18 Batch 100 Loss 0.5558 Accuracy 0.3434\n",
      "Epoch 18 Batch 200 Loss 0.5598 Accuracy 0.3423\n",
      "Epoch 18 Batch 300 Loss 0.5684 Accuracy 0.3433\n",
      "Epoch 18 Batch 400 Loss 0.5714 Accuracy 0.3424\n",
      "Epoch 18 Batch 500 Loss 0.5748 Accuracy 0.3413\n",
      "Epoch 18 Batch 600 Loss 0.5820 Accuracy 0.3400\n",
      "Epoch 18 Batch 700 Loss 0.5866 Accuracy 0.3393\n",
      "Epoch 18 Loss 0.5871 Accuracy 0.3393\n",
      "Time take for 1 epoch: 1199.7210211753845 secs\n",
      "\n",
      "Epoch 19 Batch 0 Loss 0.5078 Accuracy 0.3125\n",
      "Epoch 19 Batch 100 Loss 0.5130 Accuracy 0.3408\n",
      "Epoch 19 Batch 200 Loss 0.5315 Accuracy 0.3444\n"
     ]
    },
    {
     "name": "stdout",
     "output_type": "stream",
     "text": [
      "Epoch 19 Batch 300 Loss 0.5416 Accuracy 0.3458\n",
      "Epoch 19 Batch 400 Loss 0.5482 Accuracy 0.3453\n",
      "Epoch 19 Batch 500 Loss 0.5536 Accuracy 0.3443\n",
      "Epoch 19 Batch 600 Loss 0.5593 Accuracy 0.3438\n",
      "Epoch 19 Batch 700 Loss 0.5626 Accuracy 0.3422\n",
      "Epoch 19 Loss 0.5627 Accuracy 0.3422\n",
      "Time take for 1 epoch: 1264.3505566120148 secs\n",
      "\n",
      "Epoch 20 Batch 0 Loss 0.5701 Accuracy 0.3804\n",
      "Epoch 20 Batch 100 Loss 0.5067 Accuracy 0.3528\n",
      "Epoch 20 Batch 200 Loss 0.5195 Accuracy 0.3520\n",
      "Epoch 20 Batch 300 Loss 0.5229 Accuracy 0.3497\n",
      "Epoch 20 Batch 400 Loss 0.5286 Accuracy 0.3483\n",
      "Epoch 20 Batch 500 Loss 0.5333 Accuracy 0.3478\n",
      "Epoch 20 Batch 600 Loss 0.5392 Accuracy 0.3467\n",
      "Epoch 20 Batch 700 Loss 0.5445 Accuracy 0.3464\n",
      "Epoch 20 Loss 0.5445 Accuracy 0.3464\n",
      "Time take for 1 epoch: 1284.178857088089 secs\n",
      "\n"
     ]
    }
   ],
   "source": [
    "#6_train_step\n",
    "\n",
    "train_loss = keras.metrics.Mean(name= 'train_loss')\n",
    "train_accuracy = keras.metrics.SparseCategoricalAccuracy(name='train_accuracy')\n",
    "\n",
    "@tf.function\n",
    "def train_step(inp,tar):\n",
    "    tar_inp = tar[:,:-1]\n",
    "    tar_real = tar[:,1:]\n",
    "\n",
    "    encoder_padding_mask,decoder_mask,encoder_decoder_padding_mask = create_masks(inp,tar_inp)\n",
    "\n",
    "    with tf.GradientTape() as tape:\n",
    "        predictions,_ = transformer(inp,tar_inp,True,encoder_padding_mask,decoder_mask,encoder_decoder_padding_mask)\n",
    "        loss = loss_function(tar_real,predictions)\n",
    "\n",
    "    gradients = tape.gradient(loss,transformer.trainable_variables)\n",
    "    optimizer.apply_gradients(zip(gradients,transformer.trainable_variables))\n",
    "    train_loss(loss)\n",
    "    train_accuracy(tar_real,predictions)\n",
    "\n",
    "epochs = 20\n",
    "for epoch in range(epochs):\n",
    "    start = time.time()\n",
    "    train_loss.reset_states()\n",
    "    train_accuracy.reset_states()\n",
    "\n",
    "    for (batch,(inp,tar)) in enumerate(train_dataset):\n",
    "        train_step(inp,tar)\n",
    "        if batch%100 ==0:\n",
    "            print('Epoch {} Batch {} Loss {:.4f} Accuracy {:.4f}'.format(epoch+1,batch,train_loss.result(),train_accuracy.result()))\n",
    "\n",
    "    print('Epoch {} Loss {:.4f} Accuracy {:.4f}'.format(epoch+1,train_loss.result(),train_accuracy.result()))\n",
    "    print('Time take for 1 epoch: {} secs\\n'.format(time.time() - start))\n"
   ]
  },
  {
   "cell_type": "code",
   "execution_count": 70,
   "metadata": {},
   "outputs": [],
   "source": [
    "'''\n",
    "7.1 evaluate\n",
    "eg: A B C D -> E F G H.\n",
    "Train: A B C D, E F G -> F G H\n",
    "Eval:  A B C D -> E\n",
    "       A B C D, E -> F\n",
    "       A B C D, E F -> G\n",
    "       A B C D, E F G -> H\n",
    "'''\n",
    "\n",
    "def evaluate(inp_sentence):\n",
    "    input_id_sentence = [pt_tokenizer.vocab_size]+ pt_tokenizer.encode(inp_sentence) + [pt_tokenizer.vocab_size + 1]\n",
    "\n",
    "    encoder_input = tf.expand_dims(input_id_sentence,0)  #shape:(1,input_sentence_length)\n",
    "\n",
    "    decoder_input = tf.expand_dims([en_tokenizer.vocab_size],0)\n",
    "\n",
    "    for i in range(max_length):\n",
    "        encoder_padding_mask, decoder_mask, encoder_decoder_padding_mask = create_masks(encoder_input,decoder_input)\n",
    "        #predictions.shape=(batch_size, output_target_len,target_vocab_size)\n",
    "        predictions, attention_weights = transformer(\n",
    "            encoder_input,\n",
    "            decoder_input,\n",
    "            False,\n",
    "            encoder_padding_mask,\n",
    "            decoder_mask,\n",
    "            encoder_decoder_padding_mask\n",
    "        )\n",
    "\n",
    "        predictions = predictions[:,-1,:]   #shape:(batch_size, target_vocab_size)\n",
    "        predicted_id = tf.cast(tf.argmax(predictions,axis=-1),tf.int32)\n",
    "\n",
    "        if tf.equal(predicted_id, en_tokenizer.vocab_size +1):\n",
    "            return tf.squeeze(decoder_input,axis=0),attention_weights\n",
    "\n",
    "        decoder_input = tf.concat([decoder_input,[predicted_id]],axis = -1)\n",
    "    return  tf.squeeze(decoder_input,axis = 0), attention_weights"
   ]
  },
  {
   "cell_type": "code",
   "execution_count": 71,
   "metadata": {},
   "outputs": [],
   "source": [
    "#7.2 visualize\n",
    "\n",
    "def plot_encoder_decoder_attention(attention,input_sentence,result,layer_num):\n",
    "    fig = plt.figure(figsize=(16,8))\n",
    "    input_id_sentence = pt_tokenizer.encode(input_sentence)\n",
    "\n",
    "    #attention.shape = (num_heads,tar_len,input_len)\n",
    "    attention = tf.squeeze(attention[layer_num],axis = 0)\n",
    "\n",
    "    for head in range(attention.shape[0]):\n",
    "        ax = fig.add_subplot(2,4,head+1)\n",
    "\n",
    "        ax.matshow(attention[head][:-1,:])\n",
    "        fontdict = {'fontsize':10}\n",
    "\n",
    "        ax.set_xticks(range(len(input_id_sentence) +2))\n",
    "        ax.set_yticks(range(len(result)))\n",
    "\n",
    "        ax.set_ylim(len(result) -1.5,-0.5)\n",
    "        ax.set_xticklabels(['<start>']+[pt_tokenizer.decode([i]) for i in input_id_sentence]+['<end>'],fontdict = fontdict, rotation = 90)\n",
    "        ax.set_yticklabels([en_tokenizer.decode([i])for i in result if i < en_tokenizer.vocab_size], fontdict = fontdict)\n",
    "        ax.set_xlabel('Head{}'.format(head+1))\n",
    "    plt.tight_layout()\n",
    "    plt.show()"
   ]
  },
  {
   "cell_type": "code",
   "execution_count": 72,
   "metadata": {},
   "outputs": [],
   "source": [
    "def translate(input_sentence, layer_name = ''):\n",
    "    result, attention_weights = evaluate(input_sentence)\n",
    "\n",
    "    predicted_sentence = en_tokenizer.decode(\n",
    "        [i for i in result if i < en_tokenizer.vocab_size]\n",
    "    )\n",
    "\n",
    "    print('Input: {}'.format(input_sentence))\n",
    "    print('Predicted translation: {}'.format(predicted_sentence))\n",
    "\n",
    "    if layer_name:\n",
    "        plot_encoder_decoder_attention(attention_weights,input_sentence,result,layer_name)"
   ]
  },
  {
   "cell_type": "code",
   "execution_count": 73,
   "metadata": {},
   "outputs": [
    {
     "name": "stdout",
     "output_type": "stream",
     "text": [
      "Input: está frio aqui.\n",
      "Predicted translation: it 's cold-cold-standing here .\n"
     ]
    }
   ],
   "source": [
    "translate('está frio aqui.')"
   ]
  },
  {
   "cell_type": "code",
   "execution_count": 74,
   "metadata": {},
   "outputs": [
    {
     "name": "stdout",
     "output_type": "stream",
     "text": [
      "Input: qual o seu nome?\n",
      "Predicted translation: what about his name ?\n"
     ]
    },
    {
     "data": {
      "image/png": "[encoded data removed]",
      "text/plain": [
       "<Figure size 1152x576 with 4 Axes>"
      ]
     },
     "metadata": {
      "needs_background": "light"
     },
     "output_type": "display_data"
    }
   ],
   "source": [
    "translate('qual o seu nome?',layer_name='decoder_layer4_att2')"
   ]
  },
  {
   "cell_type": "code",
   "execution_count": 75,
   "metadata": {},
   "outputs": [
    {
     "name": "stdout",
     "output_type": "stream",
     "text": [
      "Input: você sabe que meu cachorro tem seu próprio filho agora?\n",
      "Predicted translation: do you know what my dogs is going to cry you now do ?\n"
     ]
    },
    {
     "data": {
      "image/png": "[encoded data removed]",
      "text/plain": [
       "<Figure size 1152x576 with 4 Axes>"
      ]
     },
     "metadata": {
      "needs_background": "light"
     },
     "output_type": "display_data"
    }
   ],
   "source": [
    "translate('você sabe que meu cachorro tem seu próprio filho agora?',layer_name='decoder_layer4_att2')"
   ]
  },
  {
   "cell_type": "code",
   "execution_count": null,
   "metadata": {},
   "outputs": [],
   "source": []
  }
 ],
 "metadata": {
  "kernelspec": {
   "display_name": "Python 3",
   "language": "python",
   "name": "python3"
  },
  "language_info": {
   "codemirror_mode": {
    "name": "ipython",
    "version": 3
   },
   "file_extension": ".py",
   "mimetype": "text/x-python",
   "name": "python",
   "nbconvert_exporter": "python",
   "pygments_lexer": "ipython3",
   "version": "3.7.4"
  }
 },
 "nbformat": 4,
 "nbformat_minor": 2
}
